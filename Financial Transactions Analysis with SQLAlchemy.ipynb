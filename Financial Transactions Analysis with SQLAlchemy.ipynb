{
 "cells": [
  {
   "cell_type": "markdown",
   "id": "26c3bc2d-0212-46e7-9fdb-b8474c750f56",
   "metadata": {},
   "source": [
    "This Jupyter notebook is designed to practice the basic functions of SQLAlchemy Core using the `Metaverse Financial Transactions dataset` from *Kaggle*. SQLAlchemy Core offers a direct approach to working with SQL expressions and database structures, providing fine-grained control over database queries and operations without the abstraction layer of SQLAlchemy ORM.\n",
    "\n",
    "The core focus of this notebook is to demonstrate how to convert a CSV file into a database and leverage SQLAlchemy Core functions to perform various database operations and analyses.\n",
    "\n",
    "You can access the dataset [here](https://www.kaggle.com/datasets/faizaniftikharjanjua/metaverse-financial-transactions-dataset)\n",
    "\n"
   ]
  },
  {
   "cell_type": "markdown",
   "id": "ccb48d57-6162-43b8-9470-63e4f133181b",
   "metadata": {},
   "source": [
    "# Packages"
   ]
  },
  {
   "cell_type": "code",
   "execution_count": 161,
   "id": "66a7f140-4bf9-46c8-a346-e17638d63df0",
   "metadata": {},
   "outputs": [],
   "source": [
    "from sqlalchemy import create_engine, MetaData, Table, select, func, distinct, case, cast, Float\n",
    "import pandas as pd"
   ]
  },
  {
   "cell_type": "code",
   "execution_count": 2,
   "id": "5deeb189-835c-406a-9607-8effcba800ca",
   "metadata": {},
   "outputs": [],
   "source": [
    " # function that imports csv file and converts it sqlalchemy database \n",
    "def csv_to_db(csv_path, db_name, table_name):\n",
    "    \"\"\"\n",
    "    Load a CSV file using pandas and convert it to a SQLAlchemy database.\n",
    "\n",
    "    Parameters:\n",
    "    csv_path (str): The path to the CSV file.\n",
    "    db_name (str): The name of the database file.\n",
    "    table_name (str): The name of the SQL table to create or replace.\n",
    "    \"\"\"\n",
    "\n",
    "    # Load the CSV file into a DataFrame\n",
    "    df = pd.read_csv(csv_path)\n",
    "\n",
    "    # Create a SQLAlchemy engine for the SQLite database\n",
    "    engine = create_engine(f\"sqlite:///{db_name}\")\n",
    "\n",
    "    # Convert the DataFrame to a SQL table\n",
    "    df.to_sql(table_name, engine, if_exists=\"replace\", index=False)\n",
    "    "
   ]
  },
  {
   "cell_type": "code",
   "execution_count": 3,
   "id": "c77354e4-69dc-4f09-babb-616847a273e1",
   "metadata": {},
   "outputs": [],
   "source": [
    "# create database from csv file \n",
    "csv_to_db(\"metaverse_transactions_dataset.csv\", \"transaction.db\", \"transaction\")"
   ]
  },
  {
   "cell_type": "code",
   "execution_count": 4,
   "id": "66db468b-17cf-4a56-bfa6-64827a17d9a6",
   "metadata": {},
   "outputs": [],
   "source": [
    "def meta_data(table_name, db_name): \n",
    "    \"\"\"\n",
    "    Print and explore the metadata of a specified table in the database.\n",
    "    \n",
    "    Parameters: \n",
    "    table_name (str): The name of the SQL table to retrieve metadata for.\n",
    "    db_name (str): The name of the SQLite database.\n",
    "    \"\"\"\n",
    "    # Create a SQLAlchemy engine for the SQLite database\n",
    "    engine = create_engine(f\"sqlite:///{db_name}\")\n",
    "    \n",
    "    # Initialize the metadata object\n",
    "    metadata = MetaData() \n",
    "    \n",
    "    # Reflect the table from the database via the engine\n",
    "    db_base = Table(table_name, metadata, autoload_with=engine)\n",
    "    \n",
    "    # Print the column name\n",
    "    print(\"Table column names: \", db_base.columns.keys())\n",
    "\n",
    "    # Print full metadata of the table\n",
    "    print(\"Metadata of the table:\", repr(metadata.tables[table_name]))\n"
   ]
  },
  {
   "cell_type": "code",
   "execution_count": 5,
   "id": "c52759b4-6293-48d9-843d-9a4524ad6c17",
   "metadata": {},
   "outputs": [
    {
     "name": "stdout",
     "output_type": "stream",
     "text": [
      "Table column names:  ['timestamp', 'hour_of_day', 'sending_address', 'receiving_address', 'amount', 'transaction_type', 'location_region', 'ip_prefix', 'login_frequency', 'session_duration', 'purchase_pattern', 'age_group', 'risk_score', 'anomaly']\n",
      "Metadata of the table: Table('transaction', MetaData(), Column('timestamp', TEXT(), table=<transaction>), Column('hour_of_day', BIGINT(), table=<transaction>), Column('sending_address', TEXT(), table=<transaction>), Column('receiving_address', TEXT(), table=<transaction>), Column('amount', FLOAT(), table=<transaction>), Column('transaction_type', TEXT(), table=<transaction>), Column('location_region', TEXT(), table=<transaction>), Column('ip_prefix', FLOAT(), table=<transaction>), Column('login_frequency', BIGINT(), table=<transaction>), Column('session_duration', BIGINT(), table=<transaction>), Column('purchase_pattern', TEXT(), table=<transaction>), Column('age_group', TEXT(), table=<transaction>), Column('risk_score', FLOAT(), table=<transaction>), Column('anomaly', TEXT(), table=<transaction>), schema=None)\n"
     ]
    }
   ],
   "source": [
    "meta_data(\"transaction\", \"transaction.db\")"
   ]
  },
  {
   "cell_type": "markdown",
   "id": "b1589e94-cbe0-4ad4-a9fe-0925c3d52ae0",
   "metadata": {},
   "source": [
    " # Basic Queries: Data retrieval and engine creation"
   ]
  },
  {
   "cell_type": "code",
   "execution_count": 19,
   "id": "5ad86c71-c4eb-41c0-8a89-954d086ec35f",
   "metadata": {},
   "outputs": [],
   "source": [
    "engine = create_engine(\"sqlite:///transaction.db\")\n",
    "connection = engine.connect()\n",
    "metadata = MetaData()\n",
    "transaction = Table(\"transaction\", metadata, autoload_with = engine)\n",
    "stmt = select(transaction)"
   ]
  },
  {
   "cell_type": "code",
   "execution_count": 10,
   "id": "0addb0a6-aaf6-4c2a-96da-ff3b69f48c84",
   "metadata": {},
   "outputs": [
    {
     "name": "stdout",
     "output_type": "stream",
     "text": [
      "('2022-04-11 12:47:27', 12, '0x9d32d0bf2c00f41ce7ca01b66e174cc4dcb0c1da', '0x39f82e1c09bc6d7baccc1e79e5621ff812f50572', 796.9492059264745, 'transfer', 'Europe', 192.0, 3, 48, 'focused', 'established', 18.75, 'low_risk')\n",
      "('2022-06-14 19:12:46', 19, '0xd6e251c23cbf52dbd472f079147873e655d8096f', '0x51e8fbe24f124e0e30a614e14401b9bbfed5384c', 0.01, 'purchase', 'South America', 172.0, 5, 61, 'focused', 'established', 25.0, 'low_risk')\n",
      "('2022-01-18 16:26:59', 16, '0x2e0925b922fed01f6a85d213ae2718f54b8ca305', '0x52c7911879f783d590af45bda0c0ef2b8536706f', 778.197389885983, 'purchase', 'Asia', 192.168, 3, 74, 'focused', 'established', 31.25, 'low_risk')\n",
      "('2022-06-15 09:20:04', 9, '0x93efefc25fcaf31d7695f28018d7a11ece55457f', '0x8ac3b7bd531b3a833032f07d4e47c7af6ea7bace', 300.8383577068122, 'transfer', 'South America', 172.0, 8, 111, 'high_value', 'veteran', 36.75, 'low_risk')\n",
      "('2022-02-18 14:35:30', 14, '0xad3b8de45d63f5cce28aef9a82cf30c397c6ceb9', '0x6fdc047c2391615b3facd79b4588c7e9106e49f2', 775.5693437525714, 'sale', 'Africa', 172.16, 6, 100, 'high_value', 'veteran', 62.5, 'moderate_risk')\n",
      "('2022-04-05 19:05:44', 19, '0xa99b9a7f5c5dd37429771efd3b93c6fbe1ab2936', '0x5a78c88c5fc1e9b512f6c64e266b46a9db0a7238', 590.25398234613, 'transfer', 'Africa', 192.168, 4, 66, 'focused', 'established', 15.75, 'low_risk')\n",
      "('2022-09-27 18:46:51', 18, '0xcca095ad2d508c200bda1141f783d77c3e6cbb08', '0xb71a4df291ea8e9996a74e77ab63f5abcbfe90f5', 671.4962455418183, 'sale', 'South America', 192.0, 8, 103, 'high_value', 'veteran', 52.5, 'low_risk')\n",
      "('2022-03-30 19:55:51', 19, '0xe0b340171486b08f0c1f4ac607ed776478cefd2b', '0x577754308538f4be10a41afb4f8900cd24d7098f', 800.2089338363055, 'sale', 'South America', 192.0, 1, 32, 'random', 'new', 50.0, 'low_risk')\n",
      "('2022-04-15 15:10:10', 15, '0xb0b2f6fc707fbb7f9d27a9f4fe0cb0d6b39a0155', '0xd6ba299fdd52f09f01d9648036ca446498c01ac2', 218.03094416136088, 'transfer', 'South America', 192.0, 4, 42, 'focused', 'established', 15.0, 'low_risk')\n",
      "('2022-02-26 13:37:34', 13, '0x6ea0e02fb6ee893dc3b70b98df1a48165d28eb09', '0xc28cbdb253f12174f7aa80ff6c6660f2e09397d7', 134.59537810095418, 'transfer', 'Europe', 172.16, 3, 79, 'focused', 'established', 15.0, 'low_risk')\n"
     ]
    }
   ],
   "source": [
    "# Limit the results to the first rows\n",
    "stmt_l = stmt.limit(10)\n",
    "for result in (connection.execute(stmt_l).fetchall()):\n",
    "    print(result)"
   ]
  },
  {
   "cell_type": "code",
   "execution_count": 11,
   "id": "0abc39a6-c869-4fb6-afa0-697947e897e9",
   "metadata": {},
   "outputs": [
    {
     "name": "stdout",
     "output_type": "stream",
     "text": [
      "The number of transactions in the database:  78600\n"
     ]
    }
   ],
   "source": [
    "# Count the number of rows/transactions in total \n",
    "stmt_c = select(func.count()).select_from(transaction)\n",
    "print(\"The number of transactions in the database: \", connection.execute(stmt_c).scalar())"
   ]
  },
  {
   "cell_type": "code",
   "execution_count": 12,
   "id": "7d9280de-19c8-461c-979b-d370e15f5b76",
   "metadata": {},
   "outputs": [
    {
     "name": "stdout",
     "output_type": "stream",
     "text": [
      "The number of unique transaction types:  5\n"
     ]
    }
   ],
   "source": [
    "# Count number of unique values in the transaction_type column\n",
    "distinct_stmt = select(func.count(func.distinct(transaction.columns.transaction_type)))\n",
    "print(\"The number of unique transaction types: \", connection.execute(distinct_stmt).scalar())                     "
   ]
  },
  {
   "cell_type": "code",
   "execution_count": 13,
   "id": "a68b23db-e4c7-4f20-9939-d8965ceb07c8",
   "metadata": {},
   "outputs": [],
   "source": [
    "def count_transactions_per_column (table_name, column_name): \n",
    "    \"\"\"\n",
    "    Calculate the number of transactions per unique value in a specified column.\n",
    "    \n",
    "    Parameters:\n",
    "    table (Table): The SQLAlchemy Table object to query.\n",
    "    column_name (str): The name of the column to group by.\n",
    "\n",
    "    Returns:\n",
    "    List[Tuple]: A list of tuples, each containing a unique column value and the count of transactions.\n",
    "    \"\"\"\n",
    "    \n",
    "    # count number of transaction per each giving column \n",
    "    column = table_name.columns[column_name]\n",
    "    c = select(column, \n",
    "               func.count(column)).group_by(column).order_by(func.count(column).desc())\n",
    "   \n",
    "    results = connection.execute(c).fetchall()\n",
    "    \n",
    "    return results\n",
    "\n",
    "    "
   ]
  },
  {
   "cell_type": "code",
   "execution_count": 14,
   "id": "92f06c5a-4eca-4e4f-a3ed-21ff36f928ff",
   "metadata": {},
   "outputs": [
    {
     "name": "stdout",
     "output_type": "stream",
     "text": [
      "Transaction Type: sale, Count: 25040\n",
      "Transaction Type: purchase, Count: 24940\n",
      "Transaction Type: transfer, Count: 22125\n",
      "Transaction Type: scam, Count: 3949\n",
      "Transaction Type: phishing, Count: 2546\n"
     ]
    }
   ],
   "source": [
    "# Number of transactions per transaction type \n",
    "\n",
    "results = count_transactions_per_column(transaction, \"transaction_type\")\n",
    "for result in results:\n",
    "    print(f\"Transaction Type: {result[0]}, Count: {result[1]}\")\n"
   ]
  },
  {
   "cell_type": "code",
   "execution_count": 15,
   "id": "93544661-d961-4a52-a971-37de20db9942",
   "metadata": {},
   "outputs": [
    {
     "name": "stdout",
     "output_type": "stream",
     "text": [
      "Region:North America, Count:15840\n",
      "Region:Europe, Count:15807\n",
      "Region:Asia, Count:15731\n",
      "Region:South America, Count:15669\n",
      "Region:Africa, Count:15553\n"
     ]
    }
   ],
   "source": [
    "# Number of transaction for each continent\n",
    "results = count_transactions_per_column(transaction, \"location_region\")\n",
    "for result in results: \n",
    "    print(f\"Region:{result[0]}, Count:{result[1]}\")                                                              "
   ]
  },
  {
   "cell_type": "code",
   "execution_count": 16,
   "id": "bb9750ee-7ea6-4eca-9051-db510433bcdf",
   "metadata": {},
   "outputs": [
    {
     "name": "stdout",
     "output_type": "stream",
     "text": [
      "Purchase Pattern: high_value, Count:26422\n",
      "Purchase Pattern: random, Count:26145\n",
      "Purchase Pattern: focused, Count:26033\n"
     ]
    }
   ],
   "source": [
    "# Number of transactions grouped by purchase pattern \n",
    "results = count_transactions_per_column(transaction, \"purchase_pattern\")\n",
    "\n",
    "for result in results: \n",
    "    print(f\"Purchase Pattern: {result[0]}, Count:{result[1]}\")"
   ]
  },
  {
   "cell_type": "code",
   "execution_count": 17,
   "id": "5446065a-7a98-4fba-8965-f7b5fb2bedf1",
   "metadata": {},
   "outputs": [
    {
     "name": "stdout",
     "output_type": "stream",
     "text": [
      "Age Group: veteran, Count:26422\n",
      "Age Group: new, Count:26145\n",
      "Age Group: established, Count:26033\n"
     ]
    }
   ],
   "source": [
    "# Number of transactions grouped by age_group\n",
    "results = count_transactions_per_column(transaction, \"age_group\")\n",
    "\n",
    "for result in results: \n",
    "    print(f\"Age Group: {result[0]}, Count:{result[1]}\")"
   ]
  },
  {
   "cell_type": "code",
   "execution_count": 18,
   "id": "ebfe5202-d102-416d-b7d9-7b81005927be",
   "metadata": {},
   "outputs": [
    {
     "name": "stdout",
     "output_type": "stream",
     "text": [
      "Anomaly: low_risk, Count:63494\n",
      "Anomaly: moderate_risk, Count:8611\n",
      "Anomaly: high_risk, Count:6495\n"
     ]
    }
   ],
   "source": [
    "# Number of transaction grouped by anomaly\n",
    "results = count_transactions_per_column(transaction, \"anomaly\")\n",
    "\n",
    "for result in results: \n",
    "    print(f\"Anomaly: {result[0]}, Count:{result[1]}\")"
   ]
  },
  {
   "cell_type": "markdown",
   "id": "afd3cbd9-0077-49e6-9837-c03060877f97",
   "metadata": {},
   "source": [
    "# Basic queries: Aggregation and Summarization"
   ]
  },
  {
   "cell_type": "code",
   "execution_count": 42,
   "id": "bb43ae73-84a0-4317-816d-b4715530c2c2",
   "metadata": {},
   "outputs": [
    {
     "name": "stdout",
     "output_type": "stream",
     "text": [
      "The total amount of transactions:  39502387.0\n"
     ]
    }
   ],
   "source": [
    "# The total amount of transactions \n",
    "amount_select = select(func.round(func.sum(transaction.columns.amount)))\n",
    "print(\"The total amount of transactions: \", connection.execute(amount_select).scalar())"
   ]
  },
  {
   "cell_type": "code",
   "execution_count": 39,
   "id": "e975d481-a24f-4cb9-80f3-c1c4150779f0",
   "metadata": {},
   "outputs": [
    {
     "name": "stdout",
     "output_type": "stream",
     "text": [
      "The average amount of transactions:  502.57\n"
     ]
    }
   ],
   "source": [
    "# The average amount of transactions \n",
    "avg_select = select(func.round(func.avg(transaction.columns.amount),2))\n",
    "print(\"The average amount of transactions: \", connection.execute(avg_select).scalar())"
   ]
  },
  {
   "cell_type": "code",
   "execution_count": 46,
   "id": "32364724-3491-4f5e-8aa9-f26a7e33ad29",
   "metadata": {},
   "outputs": [
    {
     "name": "stdout",
     "output_type": "stream",
     "text": [
      "The maximum value of the amount:  1557.15\n"
     ]
    }
   ],
   "source": [
    "# Maximum value in the amount column\n",
    "mx_select = select(func.round(func.max(transaction.columns.amount),2))\n",
    "print(\"The maximum value of the amount: \", connection.execute(mx_select).scalar())"
   ]
  },
  {
   "cell_type": "code",
   "execution_count": 48,
   "id": "c978aa0d-0ce7-4ea2-aec3-5c1a53faaa63",
   "metadata": {},
   "outputs": [
    {
     "name": "stdout",
     "output_type": "stream",
     "text": [
      "The minimum value of the amount:  0.01\n"
     ]
    }
   ],
   "source": [
    "# Maximum value in the amount column\n",
    "mn_select = select(func.round(func.min(transaction.columns.amount),2))\n",
    "print(\"The minimum value of the amount: \", connection.execute(mn_select).scalar())"
   ]
  },
  {
   "cell_type": "code",
   "execution_count": 66,
   "id": "240c715f-a34e-45c7-8c78-bf7e6a086806",
   "metadata": {},
   "outputs": [
    {
     "name": "stdout",
     "output_type": "stream",
     "text": [
      "Transaction type: phishing, Average amount: 494.99\n",
      "Transaction type: purchase, Average amount: 506.16\n",
      "Transaction type: sale, Average amount: 502.82\n",
      "Transaction type: scam, Average amount: 495.59\n",
      "Transaction type: transfer, Average amount: 500.37\n"
     ]
    }
   ],
   "source": [
    "# Average amount per transaction type \n",
    "avg_select_tt =select(transaction.columns.transaction_type, func.round(func.avg(transaction.columns.amount),2)\n",
    "                     ).group_by(transaction.columns.transaction_type)\n",
    "results = connection.execute(avg_select_tt).fetchall()\n",
    "\n",
    "for result in connection.execute(avg_select_tt).fetchall(): \n",
    "    transaction_type, avg_amount = result\n",
    "    print(f\"Transaction type: {transaction_type}, Average amount: {avg_amount}\")"
   ]
  },
  {
   "cell_type": "code",
   "execution_count": 80,
   "id": "bb1a6d38-bd6a-4e00-9b3a-ffa2b8469d90",
   "metadata": {},
   "outputs": [
    {
     "name": "stdout",
     "output_type": "stream",
     "text": [
      "Hour of the day: 20, Count:3404\n",
      "Hour of the day: 17, Count:3377\n",
      "Hour of the day: 8, Count:3324\n",
      "Hour of the day: 0, Count:3323\n",
      "Hour of the day: 22, Count:3318\n",
      "Hour of the day: 21, Count:3318\n",
      "Hour of the day: 23, Count:3311\n",
      "Hour of the day: 13, Count:3299\n",
      "Hour of the day: 11, Count:3299\n",
      "Hour of the day: 10, Count:3298\n",
      "Hour of the day: 5, Count:3283\n",
      "Hour of the day: 12, Count:3282\n",
      "Hour of the day: 2, Count:3273\n",
      "Hour of the day: 7, Count:3258\n",
      "Hour of the day: 3, Count:3256\n",
      "Hour of the day: 19, Count:3255\n",
      "Hour of the day: 18, Count:3241\n",
      "Hour of the day: 9, Count:3241\n",
      "Hour of the day: 1, Count:3229\n",
      "Hour of the day: 6, Count:3219\n",
      "Hour of the day: 4, Count:3209\n",
      "Hour of the day: 16, Count:3205\n",
      "Hour of the day: 14, Count:3199\n",
      "Hour of the day: 15, Count:3179\n"
     ]
    }
   ],
   "source": [
    "# Number of transaction grouped hour of the day\n",
    "results = count_transactions_per_column(transaction, \"hour_of_day\")\n",
    "\n",
    "for result in results: \n",
    "    print(f\"Hour of the day: {result[0]}, Count:{result[1]}\")"
   ]
  },
  {
   "cell_type": "code",
   "execution_count": 85,
   "id": "48ca0613-4777-4f2b-9edd-96b0cc1e6e47",
   "metadata": {},
   "outputs": [
    {
     "name": "stdout",
     "output_type": "stream",
     "text": [
      "Sending address: 0x4bfe6fa35149db081520aea5e503946572718756, Count:232\n",
      "Sending address: 0xb0b2f6fc707fbb7f9d27a9f4fe0cb0d6b39a0155, Count:204\n",
      "Sending address: 0xf24dd92ee52bb0de1bab87766a4a3f1c17b2c4d9, Count:203\n",
      "Sending address: 0xceda6c769350a084f02a6e5f2fadf269ecc0c37d, Count:203\n",
      "Sending address: 0xccbf5a9926606c77db8391185066a8ee3bc0a2af, Count:203\n",
      "Sending address: 0x91ee0c3b3f87d070e260f6208c52534d36817dae, Count:203\n",
      "Sending address: 0x1d132c165feddfa72ab5fca8b7dfa522efb53a56, Count:203\n",
      "Sending address: 0xe0e56a2db04ea53331dc77010b28bc94280c37e5, Count:174\n",
      "Sending address: 0xd139ad944b14d015cc91df97b6231b6b236b4d33, Count:174\n",
      "Sending address: 0xcdcace0693e828baa1857ee5b127419bb5e7fc56, Count:174\n"
     ]
    }
   ],
   "source": [
    "# Top 10 sending addresses with the most transactions, sorted in descending order of transaction count\n",
    "sending_select = select(transaction.columns.sending_address, \n",
    "                    func.count(transaction.columns.transaction_type)\n",
    "                   ).group_by(transaction.columns.sending_address\n",
    "                   ).order_by(func.count(transaction.columns.transaction_type).desc()).limit(10)\n",
    "\n",
    "results = connection.execute(sending_select).fetchall()\n",
    "\n",
    "for result in results:\n",
    "    print(f\"Sending address: {result[0]}, Count:{result[1]}\")"
   ]
  },
  {
   "cell_type": "code",
   "execution_count": 89,
   "id": "4a670862-9884-484f-adbb-d4470c4e3d84",
   "metadata": {},
   "outputs": [
    {
     "name": "stdout",
     "output_type": "stream",
     "text": [
      "Sending address: 0x86b61ffe9ce4da504e6b7cf3f0925c1941265074, Count:232\n",
      "Sending address: 0xbc9bc0162fe1ef6624c4f9ea0139576e7407a99d, Count:203\n",
      "Sending address: 0xadc445c80282504e4af6afeb5681fded2c3d6069, Count:203\n",
      "Sending address: 0x90c61e65de8543a1e3daeda46d03fea897886666, Count:203\n",
      "Sending address: 0x897c07cac7f9149d0be00903c55d810f6e42c9cc, Count:203\n",
      "Sending address: 0x880517c4e61f634eb26e59e702726e2cbae53959, Count:203\n",
      "Sending address: 0x617b83371b4c65debb6c2e90de89c827ddcb0884, Count:203\n",
      "Sending address: 0x4e3bf6cc6fa25ce2b65d184fc14d52f375768e3c, Count:203\n",
      "Sending address: 0x2c3cfb5537f82b3baf41b0869f20b66f47d57c23, Count:203\n",
      "Sending address: 0x0496b829a3ede37a92aa2b9b101549ed23018cb8, Count:203\n"
     ]
    }
   ],
   "source": [
    "# Top 10 receiving addresses with the most transactions, sorted in descending order of transaction count\n",
    "receiving_select = select(transaction.columns.receiving_address, \n",
    "                    func.count(transaction.columns.transaction_type)\n",
    "                   ).group_by(transaction.columns.receiving_address\n",
    "                   ).order_by(func.count(transaction.columns.transaction_type).desc()).limit(10)\n",
    "\n",
    "results = connection.execute(receiving_select).fetchall()\n",
    "\n",
    "for result in results:\n",
    "    print(f\"Sending address: {result[0]}, Count:{result[1]}\")"
   ]
  },
  {
   "cell_type": "code",
   "execution_count": 186,
   "id": "fe236f8f-adac-4ee0-9f4e-8742682daebe",
   "metadata": {},
   "outputs": [
    {
     "name": "stdout",
     "output_type": "stream",
     "text": [
      "Africa 69.56850768340513\n",
      "Asia 69.50778717182634\n",
      "Europe 69.76396533181502\n",
      "North America 69.35827020202021\n",
      "South America 70.2272002042249\n"
     ]
    }
   ],
   "source": [
    "# average session duratin for each region\n",
    "stmt = select(transaction.columns.location_region, \n",
    "              func.avg(transaction.columns.session_duration\n",
    "                      )).group_by(transaction.columns.location_region)\n",
    "\n",
    "for result in (connection.execute(stmt).fetchall()):\n",
    "    print(result[0], result[1])"
   ]
  },
  {
   "cell_type": "code",
   "execution_count": 187,
   "id": "a8763a4b-bfba-4a5a-81cb-694bbee2003f",
   "metadata": {},
   "outputs": [
    {
     "name": "stdout",
     "output_type": "stream",
     "text": [
      "focused 59.489609341989016\n",
      "high_value 119.50121111195216\n",
      "random 29.49152801682922\n"
     ]
    }
   ],
   "source": [
    "# average session duratin for each purchase_pattern\n",
    "stmt = select(transaction.columns.purchase_pattern, \n",
    "              func.avg(transaction.columns.session_duration\n",
    "                      )).group_by(transaction.columns.purchase_pattern)\n",
    "\n",
    "for result in (connection.execute(stmt).fetchall()):\n",
    "    print(result[0], result[1])"
   ]
  },
  {
   "cell_type": "markdown",
   "id": "9b518e36-d0b4-4054-ac43-2793fb3dffa5",
   "metadata": {},
   "source": [
    "# Advanced Queries: case and cast"
   ]
  },
  {
   "cell_type": "code",
   "execution_count": 160,
   "id": "00b12913-1e29-433b-b9b5-50a57735f120",
   "metadata": {},
   "outputs": [],
   "source": [
    "def calculate_percentage(db_name, condition, column_name): \n",
    "    \"\"\"Calculate the percentage of transactions belonging to a specific group (e.g., region, age)\n",
    "    \n",
    "    Parameters: \n",
    "    db_name (str): Name of the SQLalchemy database\n",
    "    condition (str): The value/label must match the specified column.\n",
    "    column_name (str): The column to be evaluated against the condition.\n",
    "\n",
    "    Return: \n",
    "     float: The percentage of transactions belonging to the specified group. \n",
    "    \n",
    "    \"\"\"\n",
    "    # Create the case statement \n",
    "    case_stmt = case (\n",
    "        (transaction.columns[column_name] == condition, 1), \n",
    "        else_ = 0)\n",
    "\n",
    "    # Construct the query \n",
    "    stmt = select(func.round(func.sum(case_stmt) / cast (func.count(transaction.columns.transaction_type),\n",
    "                                                         Float ) * 100, 2).label(\"percent\"))\n",
    "    # Execute the query and return the result\n",
    "    result = connection.execute(stmt).scalar()\n",
    "    print(f\"The percentage of transaction in {condition}: {result}%\")\n"
   ]
  },
  {
   "cell_type": "code",
   "execution_count": 162,
   "id": "69d2bb74-d3a4-4837-815e-080b0e4bd913",
   "metadata": {},
   "outputs": [
    {
     "name": "stdout",
     "output_type": "stream",
     "text": [
      "The percentage of transaction in Europe: 20.11%\n",
      "The percentage of transaction in Asia: 20.01%\n",
      "The percentage of transaction in North America: 20.15%\n",
      "The percentage of transaction in South America: 19.94%\n",
      "The percentage of transaction in Africa: 19.79%\n"
     ]
    }
   ],
   "source": [
    "# for each region calculate the percentage\n",
    "calculate_percentage(transaction, \"Europe\", \"location_region\")\n",
    "calculate_percentage(transaction, \"Asia\", \"location_region\")\n",
    "calculate_percentage(transaction, \"North America\", \"location_region\")\n",
    "calculate_percentage(transaction, \"South America\", \"location_region\")\n",
    "calculate_percentage(transaction, \"Africa\", \"location_region\")"
   ]
  },
  {
   "cell_type": "code",
   "execution_count": 170,
   "id": "3b51f325-1e5f-4ac7-ae01-924fa1bf89bd",
   "metadata": {},
   "outputs": [
    {
     "name": "stdout",
     "output_type": "stream",
     "text": [
      "The percentage of transaction in established: 33.12%\n",
      "The percentage of transaction in new: 33.26%\n",
      "The percentage of transaction in veteran: 33.62%\n"
     ]
    }
   ],
   "source": [
    "# for each age_group calculate the percentage\n",
    "calculate_percentage(transaction, \"established\", \"age_group\")\n",
    "calculate_percentage(transaction, \"new\", \"age_group\")\n",
    "calculate_percentage(transaction, \"veteran\", \"age_group\")"
   ]
  },
  {
   "cell_type": "code",
   "execution_count": 172,
   "id": "306d770e-f935-4043-a545-439c3751dd9c",
   "metadata": {},
   "outputs": [
    {
     "name": "stdout",
     "output_type": "stream",
     "text": [
      "The percentage of transaction in phishing: 3.24%\n",
      "The percentage of transaction in purchase: 31.73%\n",
      "The percentage of transaction in sale: 31.86%\n",
      "The percentage of transaction in transfer: 28.15%\n",
      "The percentage of transaction in scam: 5.02%\n"
     ]
    }
   ],
   "source": [
    "# for each transaction type calculate the percentage \n",
    "calculate_percentage(transaction, \"phishing\", \"transaction_type\")\n",
    "calculate_percentage(transaction, \"purchase\", \"transaction_type\")\n",
    "calculate_percentage(transaction, \"sale\", \"transaction_type\")\n",
    "calculate_percentage(transaction, \"transfer\", \"transaction_type\")\n",
    "calculate_percentage(transaction, \"scam\", \"transaction_type\")"
   ]
  },
  {
   "cell_type": "code",
   "execution_count": 175,
   "id": "70d06ff5-8473-4b2c-9c24-0071ab861740",
   "metadata": {},
   "outputs": [
    {
     "name": "stdout",
     "output_type": "stream",
     "text": [
      "The percentage of transaction in high_risk: 8.26%\n",
      "The percentage of transaction in low_risk: 80.78%\n",
      "The percentage of transaction in moderate_risk: 10.96%\n"
     ]
    }
   ],
   "source": [
    "# for each anomaly calculate the percentage \n",
    "calculate_percentage(transaction, \"high_risk\", \"anomaly\")\n",
    "calculate_percentage(transaction, \"low_risk\", \"anomaly\")\n",
    "calculate_percentage(transaction, \"moderate_risk\", \"anomaly\")"
   ]
  },
  {
   "cell_type": "code",
   "execution_count": 178,
   "id": "7eaa83a6-1cc3-47ed-b129-3de9189902c0",
   "metadata": {},
   "outputs": [
    {
     "name": "stdout",
     "output_type": "stream",
     "text": [
      "The percentage of transaction in focused: 33.12%\n",
      "The percentage of transaction in high_value: 33.62%\n",
      "The percentage of transaction in random: 33.26%\n"
     ]
    }
   ],
   "source": [
    "# for each purchase_pattern calculate the percentage \n",
    "calculate_percentage(transaction, \"focused\", \"purchase_pattern\")\n",
    "calculate_percentage(transaction, \"high_value\", \"purchase_pattern\")\n",
    "calculate_percentage(transaction, \"random\", \"purchase_pattern\")"
   ]
  },
  {
   "cell_type": "code",
   "execution_count": null,
   "id": "9456bdf5-231b-449a-bce0-e753885cf446",
   "metadata": {},
   "outputs": [],
   "source": []
  },
  {
   "cell_type": "code",
   "execution_count": null,
   "id": "d986f7f4-fef9-4200-8188-20f13feb465a",
   "metadata": {},
   "outputs": [],
   "source": []
  }
 ],
 "metadata": {
  "kernelspec": {
   "display_name": "Python 3 (ipykernel)",
   "language": "python",
   "name": "python3"
  },
  "language_info": {
   "codemirror_mode": {
    "name": "ipython",
    "version": 3
   },
   "file_extension": ".py",
   "mimetype": "text/x-python",
   "name": "python",
   "nbconvert_exporter": "python",
   "pygments_lexer": "ipython3",
   "version": "3.11.5"
  }
 },
 "nbformat": 4,
 "nbformat_minor": 5
}
